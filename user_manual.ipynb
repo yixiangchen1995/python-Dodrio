{
 "cells": [
  {
   "cell_type": "code",
   "execution_count": null,
   "id": "fc522154-3fbf-425c-8af9-22d89a8cb5e7",
   "metadata": {},
   "outputs": [],
   "source": []
  },
  {
   "cell_type": "code",
   "execution_count": null,
   "id": "b6e5ec37-80fa-49a7-9440-69e6fbdd41ef",
   "metadata": {},
   "outputs": [],
   "source": []
  },
  {
   "cell_type": "markdown",
   "id": "8074d552-b96e-4143-a6a6-cc4f7fb6b662",
   "metadata": {},
   "source": [
    "## 准备输入和输出目录"
   ]
  },
  {
   "cell_type": "code",
   "execution_count": 1,
   "id": "0a21bf09-415c-439a-aa16-c393d63a4ae8",
   "metadata": {},
   "outputs": [],
   "source": [
    "test_data_dir = '/home/jovyan/chenyixiang/workspace/20250324_dodrio/testdata/origin_data/test_data"
   ]
  },
  {
   "cell_type": "code",
   "execution_count": 2,
   "id": "efa1c9ba-bd23-4cc5-9ca8-b95c16051cc1",
   "metadata": {},
   "outputs": [],
   "source": [
    "import os\n",
    "outdir = '/home/jovyan/chenyixiang/workspace/20250324_dodrio/testdata/testout'\n",
    "dataname = 'test'\n",
    "stockdir = outdir + '/stockdir'\n",
    "usagedir = outdir + '/usagedir'\n",
    "parquet_dir = os.path.join(stockdir, dataname, 'parquet_dir')\n",
    "pack_dir = os.path.join(usagedir, dataname, 'pack_dir')\n",
    "info_outdir = os.path.join(stockdir, dataname, 'info_dir')"
   ]
  },
  {
   "cell_type": "code",
   "execution_count": 3,
   "id": "d138769b-9a6e-4fd9-b91c-86a8c92a3c0a",
   "metadata": {},
   "outputs": [],
   "source": [
    "reout = '/home/jovyan/chenyixiang/workspace/20250324_dodrio/testdata/reout'\n",
    "re_paruquet = os.path.join(reout, 'reparquet_dir')\n",
    "re_pack = os.path.join(reout, 'repack_dir')"
   ]
  },
  {
   "cell_type": "markdown",
   "id": "acd06f3a-2d34-4ac8-a6a8-bd7a583e06f6",
   "metadata": {},
   "source": [
    "## 数据打包"
   ]
  },
  {
   "cell_type": "code",
   "execution_count": 3,
   "id": "bd6b83f0-1236-4228-b87c-feb39f4a534d",
   "metadata": {},
   "outputs": [],
   "source": [
    "import dodrio "
   ]
  },
  {
   "cell_type": "code",
   "execution_count": 4,
   "id": "a9894ae9-5401-466d-b652-db602bea39f3",
   "metadata": {},
   "outputs": [
    {
     "name": "stderr",
     "output_type": "stream",
     "text": [
      "SetList: 100%|██████████| 373/373 [00:00<00:00, 471511.57it/s]\n",
      "Turn0LoadAudio: 100%|██████████| 373/373 [00:00<00:00, 2402.21it/s]\n"
     ]
    },
    {
     "name": "stdout",
     "output_type": "stream",
     "text": [
      "/home/jovyan/chenyixiang/workspace/20250324_dodrio/testdata/testout/stockdir/test/parquet_dir/wav_test_00000.parquet had be saved\n"
     ]
    }
   ],
   "source": [
    "dodrio.gen_parquet(test_data_dir, parquet_dir, mid_name=dataname, file_type='wav')"
   ]
  },
  {
   "cell_type": "code",
   "execution_count": 5,
   "id": "caa39b3b-8321-49b4-9591-06d123674c80",
   "metadata": {},
   "outputs": [
    {
     "name": "stderr",
     "output_type": "stream",
     "text": [
      "SetList: 100%|██████████| 373/373 [00:00<00:00, 469812.43it/s]\n",
      "Turn0LoadAudio: 100%|██████████| 373/373 [00:02<00:00, 125.73it/s]\n",
      "wav_test_00000.pack Processing: 100%|██████████| 373/373 [00:00<00:00, 1702.64it/s]\n"
     ]
    }
   ],
   "source": [
    "dodrio.gen_package(test_data_dir, pack_dir, mid_name=dataname, target_sample_rate=48000, file_type='wav')"
   ]
  },
  {
   "cell_type": "code",
   "execution_count": 5,
   "id": "b21219bb-14d3-41aa-b53e-fbf5fdebad2a",
   "metadata": {},
   "outputs": [
    {
     "name": "stderr",
     "output_type": "stream",
     "text": [
      "wav_test_00000 Processing: 100%|██████████| 373/373 [00:03<00:00, 111.04it/s]\n"
     ]
    }
   ],
   "source": [
    "dodrio.parquet2package(parquet_dir, pack_dir, sample_rate=48000)"
   ]
  },
  {
   "cell_type": "markdown",
   "id": "5ae1c8e6-0e2f-4fde-abc7-49059aefcc64",
   "metadata": {},
   "source": [
    "## 打包文件还原音频"
   ]
  },
  {
   "cell_type": "code",
   "execution_count": 8,
   "id": "348fc402-7817-41f9-85ce-e04a38411d04",
   "metadata": {},
   "outputs": [
    {
     "name": "stderr",
     "output_type": "stream",
     "text": [
      "wav_test_00000 Processing: 100%|██████████| 373/373 [00:00<00:00, 1287.33it/s]\n"
     ]
    }
   ],
   "source": [
    "dodrio.parquet2wav(parquet_dir, re_paruquet)"
   ]
  },
  {
   "cell_type": "code",
   "execution_count": 5,
   "id": "21e30be8-3e5d-46f7-88a0-dbf5a72d098f",
   "metadata": {},
   "outputs": [
    {
     "name": "stderr",
     "output_type": "stream",
     "text": [
      "100%|██████████| 373/373 [00:00<00:00, 1573.77it/s]\n"
     ]
    }
   ],
   "source": [
    "dodrio.package2wav(pack_dir, re_pack)"
   ]
  },
  {
   "cell_type": "code",
   "execution_count": null,
   "id": "33feadf4-dd4b-4947-82cc-471dcdff757c",
   "metadata": {},
   "outputs": [],
   "source": []
  },
  {
   "cell_type": "markdown",
   "id": "d6704ce9-9b5f-4f83-a39a-c2e8c772234c",
   "metadata": {},
   "source": [
    "## 文本等info信息保存"
   ]
  },
  {
   "cell_type": "code",
   "execution_count": 6,
   "id": "055dfc2d-4ff7-4edb-8c7c-481cccf71404",
   "metadata": {},
   "outputs": [
    {
     "name": "stderr",
     "output_type": "stream",
     "text": [
      "LoadInfo4Supdir: 100%|██████████| 4/4 [00:00<00:00, 164.16it/s]"
     ]
    },
    {
     "name": "stdout",
     "output_type": "stream",
     "text": [
      "wav_test_00000.info had been Saved\n"
     ]
    },
    {
     "name": "stderr",
     "output_type": "stream",
     "text": [
      "\n"
     ]
    }
   ],
   "source": [
    "info_type = 'libritts'\n",
    "info_outdir = os.path.join(stockdir, dataname, 'info_dir')\n",
    "dodrio.gen_infodir(parquet_dir, test_data_dir, info_outdir, info_type, kl=['text', 'unnorm_text'], lang='en', from_type='parquet')"
   ]
  },
  {
   "cell_type": "code",
   "execution_count": 5,
   "id": "5c593d78-7b7d-42f0-a82f-14ba4e7bd3f6",
   "metadata": {},
   "outputs": [
    {
     "name": "stderr",
     "output_type": "stream",
     "text": [
      "LoadInfo4Supdir: 100%|██████████| 4/4 [00:00<00:00, 160.64it/s]"
     ]
    },
    {
     "name": "stdout",
     "output_type": "stream",
     "text": [
      "wav_test_00000.info had been Saved\n"
     ]
    },
    {
     "name": "stderr",
     "output_type": "stream",
     "text": [
      "\n"
     ]
    }
   ],
   "source": [
    "info_type = 'libritts'\n",
    "pack_info_outdir = os.path.join(usagedir, dataname, 'info_dir')\n",
    "dodrio.gen_infodir(pack_dir, test_data_dir, pack_info_outdir, info_type, kl=['text', 'unnorm_text'], lang='en', from_type='pack')"
   ]
  },
  {
   "cell_type": "code",
   "execution_count": null,
   "id": "a1ca8f7e-9617-4ac7-a9d5-631b92e78505",
   "metadata": {},
   "outputs": [],
   "source": []
  },
  {
   "cell_type": "code",
   "execution_count": 6,
   "id": "05d187c1-047e-4c1c-ba05-cbbda2958a98",
   "metadata": {},
   "outputs": [],
   "source": [
    "supdir_list = [usagedir+'/'+dataname]\n",
    "listoutdir = '/home/jovyan/chenyixiang/workspace/20250324_dodrio/testdata/listoutdir'"
   ]
  },
  {
   "cell_type": "code",
   "execution_count": 7,
   "id": "dae6ff3d-4f21-489a-9617-8a6712b7f442",
   "metadata": {},
   "outputs": [],
   "source": [
    "dodrio.genListDir(supdir_list, listoutdir, prefix='test', subnum=50000)"
   ]
  },
  {
   "cell_type": "code",
   "execution_count": null,
   "id": "417d5434-5482-435f-aa4c-446dfc5993ee",
   "metadata": {},
   "outputs": [],
   "source": []
  },
  {
   "cell_type": "markdown",
   "id": "1a638824-a9dc-4772-a519-31fc05baf4ce",
   "metadata": {},
   "source": [
    "## 特征提取样例"
   ]
  },
  {
   "cell_type": "code",
   "execution_count": 8,
   "id": "da223b55-8add-452c-b11c-6f0a507088cd",
   "metadata": {},
   "outputs": [],
   "source": [
    "from dodrio.afeat.exp_fun import extractor_embedding"
   ]
  },
  {
   "cell_type": "code",
   "execution_count": 9,
   "id": "b7e83a33-35f8-447b-836f-016e5262dd2f",
   "metadata": {},
   "outputs": [],
   "source": [
    "tt = extractor_embedding('/home/jovyan/chenyixiang/workspace/20241024_cosyvoice_flow/online_use/CosyVoice-300M-yk-250122-small-mixspk/campplus.onnx')"
   ]
  },
  {
   "cell_type": "code",
   "execution_count": 10,
   "id": "1b8e100c-d92e-4d45-8e2e-09a4a7f42427",
   "metadata": {},
   "outputs": [],
   "source": [
    "extractor_func = tt.extractor"
   ]
  },
  {
   "cell_type": "code",
   "execution_count": 11,
   "id": "53bf9709-ebbf-4a73-8ba7-8ca5ff310fb3",
   "metadata": {},
   "outputs": [],
   "source": [
    "from_type = 'package'\n",
    "featname = 'embed'\n",
    "input_dir = pack_dir\n",
    "out_dir = os.path.join(usagedir, dataname, featname+'_dir')"
   ]
  },
  {
   "cell_type": "code",
   "execution_count": 12,
   "id": "0bb27e1c-f6a2-4d4a-8d24-d1763ffbd799",
   "metadata": {},
   "outputs": [],
   "source": [
    "utt2spk = dodrio.get_utt2spk(info_outdir)"
   ]
  },
  {
   "cell_type": "code",
   "execution_count": 13,
   "id": "ae60f29c-8f82-48e6-b34b-c24298834c6b",
   "metadata": {},
   "outputs": [
    {
     "name": "stderr",
     "output_type": "stream",
     "text": [
      "100%|██████████| 373/373 [00:00<00:00, 559.03it/s]\n",
      "wav_test_00000 Processing: 100%|██████████| 373/373 [00:39<00:00,  9.40it/s]\n"
     ]
    }
   ],
   "source": [
    "dodrio.extract_feat(extractor_func, featname, input_dir, out_dir, from_type, utt2spk=utt2spk)"
   ]
  },
  {
   "cell_type": "code",
   "execution_count": 14,
   "id": "8234d0ff-b07d-41b6-9564-e8320954a0da",
   "metadata": {},
   "outputs": [],
   "source": [
    "tt.mean_spk_embedding()"
   ]
  },
  {
   "cell_type": "code",
   "execution_count": 15,
   "id": "48ba2c92-2edd-4a09-a47c-06e3fafe98bb",
   "metadata": {},
   "outputs": [
    {
     "name": "stderr",
     "output_type": "stream",
     "text": [
      "100%|██████████| 373/373 [00:00<00:00, 1220.45it/s]\n",
      "wav_test_00000 Processing: 100%|██████████| 373/373 [00:00<00:00, 56515.98it/s]\n"
     ]
    }
   ],
   "source": [
    "featname = 'spkembed'\n",
    "input_dir = pack_dir\n",
    "out_dir = os.path.join(usagedir, dataname, featname+'_dir')\n",
    "extractor_func = tt.spk_embedding_save\n",
    "dodrio.extract_feat(extractor_func, featname, input_dir, out_dir, from_type, utt2spk=utt2spk)"
   ]
  },
  {
   "cell_type": "code",
   "execution_count": 12,
   "id": "18930feb-da95-4999-8c10-3542422ad7ae",
   "metadata": {},
   "outputs": [
    {
     "data": {
      "text/plain": [
       "'/home/jovyan/chenyixiang/workspace/20250324_dodrio/testdata/testout/stockdir/test/spkembed_dir'"
      ]
     },
     "execution_count": 12,
     "metadata": {},
     "output_type": "execute_result"
    }
   ],
   "source": [
    "out_dir"
   ]
  },
  {
   "cell_type": "code",
   "execution_count": null,
   "id": "984a2ec4-0356-4037-b280-72af058ab09c",
   "metadata": {},
   "outputs": [],
   "source": []
  },
  {
   "cell_type": "code",
   "execution_count": 5,
   "id": "4e669c80-385b-438e-8fd8-87066af3b3ff",
   "metadata": {},
   "outputs": [
    {
     "name": "stderr",
     "output_type": "stream",
     "text": [
      "2025-03-27 11:26:50.306409829 [W:onnxruntime:, session_state.cc:1162 VerifyEachNodeIsAssignedToAnEp] Some nodes were not assigned to the preferred execution providers which may or may not have an negative impact on performance. e.g. ORT explicitly assigns shape related ops to CPU to improve perf.\n",
      "2025-03-27 11:26:50.306442480 [W:onnxruntime:, session_state.cc:1164 VerifyEachNodeIsAssignedToAnEp] Rerunning with verbose output on a non-minimal build will show node assignments.\n"
     ]
    }
   ],
   "source": [
    "from dodrio.afeat.exp_fun import speech_token_extractor\n",
    "tt = speech_token_extractor('/home/jovyan/chenyixiang/workspace/20241024_cosyvoice_flow/online_use/CosyVoice-300M-yk-250122-small-mixspk/speech_tokenizer_v1.onnx')"
   ]
  },
  {
   "cell_type": "code",
   "execution_count": 6,
   "id": "ab71b4a5-b37c-4698-b0d5-44f325a5f7f7",
   "metadata": {},
   "outputs": [],
   "source": [
    "extractor_func = tt.extractor\n",
    "from_type = 'package'\n",
    "featname = 'speechtoken'\n",
    "input_dir = pack_dir\n",
    "out_dir = os.path.join(usagedir, dataname, featname+'_dir')"
   ]
  },
  {
   "cell_type": "code",
   "execution_count": 7,
   "id": "fbf69ffa-2abe-4892-845b-b5c0447d0fa3",
   "metadata": {},
   "outputs": [
    {
     "name": "stderr",
     "output_type": "stream",
     "text": [
      "100%|██████████| 373/373 [00:00<00:00, 529.45it/s]\n",
      "wav_test_00000 Processing: 100%|██████████| 373/373 [00:11<00:00, 31.15it/s]\n"
     ]
    }
   ],
   "source": [
    "dodrio.extract_feat(extractor_func, featname, input_dir, out_dir, from_type)"
   ]
  },
  {
   "cell_type": "code",
   "execution_count": null,
   "id": "836e58ac-2644-42d7-9cb9-850264c71470",
   "metadata": {},
   "outputs": [],
   "source": []
  },
  {
   "cell_type": "markdown",
   "id": "77c8393f-367e-4562-b0df-291191d6ee95",
   "metadata": {},
   "source": [
    "## 其他数据特征"
   ]
  },
  {
   "cell_type": "code",
   "execution_count": null,
   "id": "83033aa7-87c8-45af-a189-0c5a7d912071",
   "metadata": {},
   "outputs": [],
   "source": [
    "from dodrio.afeat.exp_audiof import extract_mfe\n",
    "extractor_func = extract_mfe\n",
    "from_type = 'package'\n",
    "featname_list = ['pitch', 'energy', 'mel']\n",
    "input_dir = pack_dir\n",
    "out_dir_list = [os.path.join(usagedir, dataname, 'pitch_dir'), os.path.join(usagedir, dataname, 'energy_dir'), os.path.join(usagedir, dataname, 'mel_dir')]"
   ]
  },
  {
   "cell_type": "code",
   "execution_count": null,
   "id": "bd72a345-4611-4c38-8dea-d7847c34937c",
   "metadata": {},
   "outputs": [],
   "source": [
    "dodrio.extract_feat_multi(extractor_func, featname_list, input_dir, out_dir_list, from_type, f0etype='dio')"
   ]
  },
  {
   "cell_type": "code",
   "execution_count": null,
   "id": "b23b5e1d-43c8-4d76-8f54-9b93a58b795d",
   "metadata": {},
   "outputs": [],
   "source": []
  },
  {
   "cell_type": "code",
   "execution_count": null,
   "id": "2bb16d29-e3a0-4e42-9ad3-5812c60e1004",
   "metadata": {},
   "outputs": [],
   "source": [
    "from dodrio.afeat.exp_load import get_mfa\n",
    "extractor_func = get_mfa\n",
    "from_type = 'package'\n",
    "featname = 'align'\n",
    "input_dir = pack_dir\n",
    "out_dir = os.path.join(usagedir, dataname, featname+'_dir')\n",
    "jsondir = test_data_dir"
   ]
  },
  {
   "cell_type": "code",
   "execution_count": null,
   "id": "13d23cb8-5637-4d53-8b5f-f4f30145a964",
   "metadata": {},
   "outputs": [],
   "source": [
    "dodrio.extract_feat_align(extractor_func, featname, input_dir, out_dir, from_type, jsondir)"
   ]
  },
  {
   "cell_type": "code",
   "execution_count": null,
   "id": "d7a87aee-4881-4812-bbe4-e6a7ccf63ea5",
   "metadata": {},
   "outputs": [],
   "source": []
  },
  {
   "cell_type": "code",
   "execution_count": null,
   "id": "e9c7fc13-a215-434f-a553-bab637154aef",
   "metadata": {},
   "outputs": [],
   "source": [
    "from dodrio.afeat.exp_fun import emotion2vec_extractor\n",
    "tt = emotion2vec_extractor()\n",
    "extractor_func = tt.extractor\n",
    "from_type = 'package'\n",
    "featname = 'emotionembed'\n",
    "input_dir = pack_dir\n",
    "out_dir = os.path.join(usagedir, dataname, featname+'_dir')"
   ]
  },
  {
   "cell_type": "code",
   "execution_count": null,
   "id": "f028cf35-6df4-4b61-bd12-0552d6c65b50",
   "metadata": {},
   "outputs": [],
   "source": [
    "dodrio.extract_feat_extrainfo(extractor_func, featname, input_dir, out_dir, from_type)"
   ]
  },
  {
   "cell_type": "code",
   "execution_count": null,
   "id": "a32a2c0d-14df-4503-8156-d85a0d3e53df",
   "metadata": {},
   "outputs": [],
   "source": []
  },
  {
   "cell_type": "markdown",
   "id": "9e96aee5-e0a4-44fb-9192-53fead59f02c",
   "metadata": {},
   "source": [
    "## 数据表生成样例"
   ]
  },
  {
   "cell_type": "code",
   "execution_count": 5,
   "id": "2c011c0a-4876-4c03-96ea-cd51d42475c7",
   "metadata": {},
   "outputs": [],
   "source": [
    "supdir_list = [os.path.join(usagedir, dataname)]\n",
    "listoutdir= '/home/jovyan/chenyixiang/workspace/20250324_dodrio/testdata/listoutdir'\n",
    "featlist= ['embed', 'spkembed', 'speechtoken']"
   ]
  },
  {
   "cell_type": "code",
   "execution_count": 6,
   "id": "78ecf7bc-6502-4fa4-b45c-14b2cc82c1c2",
   "metadata": {},
   "outputs": [],
   "source": [
    "dodrio.gen_datalist(supdir_list, listoutdir, featlist, dodrio.check_func, prefix='test')"
   ]
  },
  {
   "cell_type": "code",
   "execution_count": null,
   "id": "e4a529d8-e1b9-49e1-a802-0bd8890991eb",
   "metadata": {},
   "outputs": [],
   "source": []
  },
  {
   "cell_type": "markdown",
   "id": "4509c7b9-b877-49fa-8874-8f70e25a08bc",
   "metadata": {},
   "source": [
    "### 另一种表格"
   ]
  },
  {
   "cell_type": "code",
   "execution_count": null,
   "id": "32ba21b1-5c43-4a2a-86dc-0becb29633bb",
   "metadata": {},
   "outputs": [],
   "source": [
    "supdir_list = [os.path.join(usagedir, dataname)]\n",
    "listoutdir= '/aliyun-oss/tts_data/dodrio_data/data_list/gstest'\n",
    "featlist= ['mel', 'pitch', 'energy', 'emotionembed', 'align']"
   ]
  },
  {
   "cell_type": "code",
   "execution_count": null,
   "id": "d576a09b-e797-4541-b6d3-7eb3c3603d76",
   "metadata": {},
   "outputs": [],
   "source": [
    "dodrio.gen_datalist(supdir_list, listoutdir, featlist, dodrio.check_func, prefix='test')"
   ]
  },
  {
   "cell_type": "code",
   "execution_count": null,
   "id": "2ee2c4e3-0508-4971-98c1-4ab85948813f",
   "metadata": {},
   "outputs": [],
   "source": []
  },
  {
   "cell_type": "code",
   "execution_count": null,
   "id": "a94841da-2fc7-4fd9-add0-e969d9e69f7c",
   "metadata": {},
   "outputs": [],
   "source": [
    "from dodrio.afeat.exp_audiof import saveStMag\n",
    "stinpfile = listoutdir + '/all_usage_utt.list'\n",
    "energy_outfile = listoutdir + '/energy_stmag'\n",
    "pitch_outfile = listoutdir + '/pitch_stmag'"
   ]
  },
  {
   "cell_type": "code",
   "execution_count": null,
   "id": "71de7955-a979-476b-a018-69f93f24bf01",
   "metadata": {},
   "outputs": [],
   "source": [
    "saveStMag(stinpfile, pitch_outfile, 'pitch')\n",
    "saveStMag(stinpfile, energy_outfile, 'energy')"
   ]
  },
  {
   "cell_type": "code",
   "execution_count": null,
   "id": "91803c4f-58ee-4008-8368-397ba17b4857",
   "metadata": {},
   "outputs": [],
   "source": []
  },
  {
   "cell_type": "markdown",
   "id": "adf1c2a7-fcfb-4289-b3b6-50ed7215f995",
   "metadata": {},
   "source": [
    "## 单条数据加载样例"
   ]
  },
  {
   "cell_type": "code",
   "execution_count": 1,
   "id": "a61ce5f9-13b1-487e-82e2-f59adef30c9e",
   "metadata": {},
   "outputs": [],
   "source": [
    "infoline = '296_142727_000010_000000|/home/jovyan/chenyixiang/workspace/20250324_dodrio/testdata/testout/usagedir/test/pack_dir/wav_test_00000.pack|119946232|121158716|4|This reduction, if admitted, would much facilitate the introduction of emotion into our system, which, being founded on the distinction between the consciousness and the object, is likewise an intellectualist system.|en|embed|/home/jovyan/chenyixiang/workspace/20250324_dodrio/testdata/testout/usagedir/test/embed_dir/wav_test_00000.embed|135168|135936|192|spkembed|/home/jovyan/chenyixiang/workspace/20250324_dodrio/testdata/testout/usagedir/test/spkembed_dir/wav_test_00000.spkembed|135168|135936|192|speechtoken|/home/jovyan/chenyixiang/workspace/20250324_dodrio/testdata/testout/usagedir/test/speechtoken_dir/wav_test_00000.speechtoken|250040|252568|632'"
   ]
  },
  {
   "cell_type": "code",
   "execution_count": 4,
   "id": "64d957da-5a4a-4fa7-acac-f949244b1ad7",
   "metadata": {},
   "outputs": [],
   "source": [
    "data_dict = dodrio.load_data_from_line(infoline)"
   ]
  },
  {
   "cell_type": "code",
   "execution_count": 5,
   "id": "2cd5a5c1-37af-4a93-a6ae-a4a895086e92",
   "metadata": {},
   "outputs": [
    {
     "data": {
      "text/plain": [
       "dict_keys(['uttid', 'audio', 'spkid', 'text', 'language', 'embed', 'spkembed', 'speechtoken'])"
      ]
     },
     "execution_count": 5,
     "metadata": {},
     "output_type": "execute_result"
    }
   ],
   "source": [
    "data_dict.keys()"
   ]
  },
  {
   "cell_type": "code",
   "execution_count": 6,
   "id": "7fafa9f9-2d5e-4cbe-bbf9-7f81c85d9447",
   "metadata": {
    "scrolled": true
   },
   "outputs": [
    {
     "data": {
      "text/plain": [
       "{'uttid': '296_142727_000010_000000',\n",
       " 'audio': array([ 0.00000000e+00,  0.00000000e+00,  3.05175781e-05, ...,\n",
       "        -3.35693359e-04, -3.35693359e-04, -2.13623047e-04]),\n",
       " 'spkid': '4',\n",
       " 'text': 'This reduction, if admitted, would much facilitate the introduction of emotion into our system, which, being founded on the distinction between the consciousness and the object, is likewise an intellectualist system.',\n",
       " 'language': 'en',\n",
       " 'embed': array([-0.7374816 ,  1.7644295 ,  1.2225451 , -0.04643741,  0.73244995,\n",
       "        -0.7787548 , -0.30873984, -1.3703386 , -0.24599129,  0.8653064 ,\n",
       "        -0.03411579, -0.41940162,  0.54753184, -2.1319628 , -1.0698097 ,\n",
       "        -0.767238  ,  0.7527503 ,  0.32521054, -0.40862432, -0.48393655,\n",
       "         0.31998435, -0.5681067 , -0.2098108 , -1.2162963 , -0.01822931,\n",
       "         0.12243897, -1.119927  ,  2.259004  ,  0.06196146,  2.182487  ,\n",
       "         0.57387555, -0.8731336 , -0.16493857,  2.150069  , -0.44916284,\n",
       "        -1.121672  , -1.1266332 , -0.8603981 , -0.7372469 ,  0.07374611,\n",
       "        -0.09573196, -1.11361   , -1.2909027 , -1.2214886 , -0.8786191 ,\n",
       "         0.86244977,  1.60332   ,  0.02227283,  0.22975129,  0.86453116,\n",
       "         1.299581  , -1.9002165 ,  0.37185073, -1.4531573 ,  0.09800121,\n",
       "        -0.08579367,  1.0198841 , -0.5750611 , -1.8394861 , -0.3770708 ,\n",
       "        -0.84037495,  1.4027609 ,  1.1706349 ,  0.20568854, -1.1960192 ,\n",
       "         0.3872828 , -1.1043371 , -0.92449397, -1.5967708 , -0.6568472 ,\n",
       "        -1.7585022 ,  1.5650842 , -0.9235853 ,  1.1524533 , -1.3372785 ,\n",
       "        -0.37185746, -0.14892673, -0.9768447 ,  1.0695949 ,  1.8486677 ,\n",
       "         1.5314276 , -0.6756008 , -0.4057458 ,  1.457878  , -1.5677443 ,\n",
       "        -1.4171755 ,  1.237273  , -1.3340181 , -0.42647672, -0.96301013,\n",
       "         0.09261577,  2.9733267 , -1.0185823 ,  0.9127525 ,  0.5840097 ,\n",
       "         0.33159786,  0.8379479 , -0.2715894 ,  2.0130365 ,  0.12444653,\n",
       "         1.5137236 , -1.5092833 ,  0.90646863,  0.8238392 ,  0.10381426,\n",
       "        -1.1708857 ,  0.41058695,  2.1619225 ,  0.96224666,  0.878315  ,\n",
       "        -0.34191808,  0.14558311, -0.19999628, -1.8075817 ,  1.0453545 ,\n",
       "         0.3532132 , -0.3000446 , -1.7224466 , -0.7301808 , -0.03998255,\n",
       "        -0.24491963,  0.48001707,  0.44236398,  0.13409065, -1.9723519 ,\n",
       "        -0.19433111, -0.42283285, -1.3012156 , -0.757259  , -1.2714794 ,\n",
       "        -0.97729605, -0.9007226 , -1.128143  ,  0.59516925, -1.5050436 ,\n",
       "         1.2333778 ,  3.2274208 , -2.675975  ,  1.0928998 , -1.1184472 ,\n",
       "         0.2844196 ,  0.8415786 , -1.3798954 , -0.25197193,  0.29048863,\n",
       "         0.41851878, -0.9336802 ,  0.7072604 , -0.64226085, -1.9046125 ,\n",
       "        -1.7725652 , -0.7288232 ,  0.40780666,  0.9098853 , -0.64892775,\n",
       "        -2.1656437 , -0.29170614, -2.0839922 , -0.879079  , -1.0648535 ,\n",
       "        -0.58155954,  1.0519079 , -1.255038  , -0.8221667 ,  1.2615634 ,\n",
       "         2.0587869 , -1.1793683 , -1.784681  , -1.5149612 ,  0.03107613,\n",
       "         0.04580337, -0.30541247,  1.2712055 , -0.7397289 , -1.6637688 ,\n",
       "         1.637457  ,  0.297897  , -1.8902029 , -0.60231054, -0.48307317,\n",
       "        -0.69243824, -2.4738972 , -0.42394423,  1.6899425 , -1.4390352 ,\n",
       "         0.38758722, -1.9812758 , -1.5456111 ,  0.92511547,  1.0182552 ,\n",
       "         0.67526805,  0.64651203], dtype=float32),\n",
       " 'spkembed': array([-4.18334365e-01,  1.69594085e+00,  1.26877069e+00,  1.47446662e-01,\n",
       "         9.70784307e-01, -5.56780279e-01, -2.20584378e-01, -1.13000810e+00,\n",
       "        -5.24585366e-01,  5.60596228e-01,  1.93540230e-01, -1.51795834e-01,\n",
       "         6.73647046e-01, -1.77561224e+00, -1.51021624e+00, -8.67315054e-01,\n",
       "         4.14259762e-01,  1.06617212e+00, -3.83881122e-01, -4.68549937e-01,\n",
       "        -6.55913129e-02, -1.59367900e-02,  3.49381983e-01, -1.76254284e+00,\n",
       "         2.95743734e-01,  7.20884800e-01, -8.99103522e-01,  2.07629633e+00,\n",
       "         3.23080331e-01,  1.55917931e+00,  6.78681493e-01, -1.09292138e+00,\n",
       "         4.49382607e-03,  1.52393985e+00, -7.23833561e-01, -1.23588431e+00,\n",
       "        -7.10818410e-01, -9.74399626e-01, -1.16434240e+00, -1.35718569e-01,\n",
       "         1.47157475e-01, -9.99817669e-01, -1.11981225e+00, -3.38671565e-01,\n",
       "        -1.35843074e+00,  6.04810238e-01,  1.08114970e+00,  3.83263826e-01,\n",
       "         2.08120182e-01,  1.71327606e-01,  1.32705009e+00, -1.64510393e+00,\n",
       "         2.38643587e-01, -1.67185926e+00, -8.41499716e-02,  1.01924270e-01,\n",
       "         1.65682864e+00, -7.27956414e-01, -1.29798877e+00, -4.68858689e-01,\n",
       "        -7.23388672e-01,  8.26430917e-01,  9.56533313e-01,  4.45304096e-01,\n",
       "        -9.42680538e-01, -1.69569924e-01, -9.29135740e-01, -8.48918855e-01,\n",
       "        -9.62875187e-01, -9.79089379e-01, -1.88380992e+00,  1.51958871e+00,\n",
       "        -9.20485854e-01,  6.29083991e-01, -1.31292164e+00, -2.22155258e-01,\n",
       "        -3.08258772e-01, -1.01230991e+00,  8.70612562e-01,  1.85000527e+00,\n",
       "         1.65739572e+00, -8.08664262e-01, -5.61943829e-01,  4.56737489e-01,\n",
       "        -1.41754103e+00, -1.32534993e+00,  1.01265121e+00, -6.98589385e-01,\n",
       "         1.40769444e-02, -1.00265431e+00, -2.78672904e-01,  2.67197561e+00,\n",
       "        -5.66776872e-01,  8.45829070e-01,  1.54376268e-01,  5.17912172e-02,\n",
       "         6.03320077e-02, -2.62614161e-01,  1.72461367e+00,  4.89370024e-04,\n",
       "         1.61608636e+00, -1.24292886e+00,  1.29893005e+00,  9.62614417e-01,\n",
       "         1.11885704e-01, -5.15025198e-01,  1.70827255e-01,  2.47746897e+00,\n",
       "         4.61267471e-01,  9.99775469e-01, -2.36212119e-01,  3.04606020e-01,\n",
       "         1.32640675e-01, -1.15252113e+00,  1.13037467e+00, -1.95954796e-02,\n",
       "         1.43705845e-01, -1.41050732e+00, -6.51366353e-01, -1.17507212e-01,\n",
       "        -1.80646896e-01, -6.28436655e-02,  1.64367631e-01,  5.62111676e-01,\n",
       "        -1.66031218e+00, -9.24727544e-02,  4.09843288e-02, -1.04781353e+00,\n",
       "        -4.29422200e-01, -1.10211313e+00, -6.96941018e-01, -3.91810358e-01,\n",
       "        -6.32029951e-01,  6.21080935e-01, -8.47196281e-01,  4.70513225e-01,\n",
       "         2.83388138e+00, -2.51190090e+00,  9.10748363e-01, -3.52314770e-01,\n",
       "         1.67397577e-02,  7.86290228e-01, -1.62660742e+00, -3.38028938e-01,\n",
       "         3.49956036e-01,  5.81587791e-01, -1.51719785e+00,  1.83753707e-02,\n",
       "        -1.94176018e-01, -1.48308611e+00, -1.70115697e+00, -5.26639998e-01,\n",
       "        -2.49741096e-02,  1.47746706e+00, -6.32546723e-01, -1.80648649e+00,\n",
       "        -1.30390689e-01, -1.82270133e+00, -9.36422408e-01, -9.04625714e-01,\n",
       "        -5.17442167e-01,  9.04991984e-01, -7.88815498e-01, -7.12982237e-01,\n",
       "         8.39657068e-01,  1.45151389e+00, -9.98705864e-01, -1.54164231e+00,\n",
       "        -8.97307396e-01,  7.01154070e-03,  1.21770114e-01,  1.42050460e-01,\n",
       "         8.31098855e-01, -4.22239184e-01, -1.89676654e+00,  9.98215258e-01,\n",
       "         2.50670731e-01, -1.20064199e+00, -5.37444651e-01, -3.11661750e-01,\n",
       "        -5.02991438e-01, -2.10916281e+00, -6.01236820e-02,  1.41284931e+00,\n",
       "        -1.31092405e+00,  4.77379739e-01, -1.68458986e+00, -1.01145303e+00,\n",
       "         7.57039487e-01,  6.30798578e-01,  8.39928612e-02,  1.15340436e+00],\n",
       "       dtype=float32),\n",
       " 'speechtoken': array([7.450e+02, 1.089e+03, 3.170e+02, 1.680e+02, 1.923e+03, 2.989e+03,\n",
       "        4.030e+02, 3.150e+02, 1.830e+02, 2.270e+02, 3.710e+02, 1.850e+02,\n",
       "        1.650e+02, 9.400e+01, 2.860e+02, 2.320e+02, 5.840e+02, 1.680e+02,\n",
       "        4.030e+03, 6.120e+02, 5.290e+02, 1.210e+02, 1.390e+02, 2.592e+03,\n",
       "        7.330e+02, 2.270e+02, 5.150e+02, 3.965e+03, 5.150e+02, 6.990e+02,\n",
       "        4.920e+02, 4.070e+02, 2.540e+02, 3.060e+02, 8.400e+01, 8.400e+01,\n",
       "        1.401e+03, 5.420e+02, 6.420e+02, 7.100e+02, 1.800e+02, 7.000e+01,\n",
       "        4.350e+02, 2.040e+02, 5.770e+02, 5.850e+02, 3.142e+03, 6.390e+02,\n",
       "        1.550e+02, 1.550e+02, 5.330e+02, 6.000e+01, 2.600e+02, 3.610e+02,\n",
       "        7.500e+02, 1.190e+02, 5.300e+02, 3.200e+01, 5.400e+01, 3.200e+01,\n",
       "        5.810e+02, 1.880e+02, 2.782e+03, 4.080e+02, 2.900e+02, 2.592e+03,\n",
       "        1.935e+03, 3.150e+02, 2.900e+02, 2.050e+02, 1.670e+02, 1.670e+02,\n",
       "        2.500e+01, 8.600e+01, 1.590e+02, 1.190e+02, 5.990e+02, 4.520e+02,\n",
       "        5.300e+01, 5.050e+02, 3.340e+02, 4.000e+01, 3.270e+02, 4.630e+02,\n",
       "        9.300e+01, 2.220e+02, 2.220e+02, 2.220e+02, 2.220e+02, 2.220e+02,\n",
       "        6.800e+01, 2.220e+02, 2.220e+02, 4.420e+02, 6.800e+01, 2.300e+02,\n",
       "        6.800e+01, 7.500e+01, 7.500e+01, 7.500e+01, 5.310e+02, 4.360e+02,\n",
       "        1.210e+02, 3.950e+02, 2.620e+02, 7.100e+02, 7.100e+02, 3.132e+03,\n",
       "        5.630e+02, 7.400e+01, 2.270e+02, 3.052e+03, 4.300e+02, 4.820e+02,\n",
       "        5.460e+02, 3.200e+01, 5.400e+01, 6.560e+02, 2.299e+03, 6.120e+02,\n",
       "        6.630e+02, 6.000e+00, 2.992e+03, 1.830e+02, 2.514e+03, 5.150e+02,\n",
       "        5.060e+02, 2.870e+02, 1.550e+02, 3.836e+03, 5.410e+02, 4.830e+02,\n",
       "        4.390e+02, 1.940e+02, 5.220e+02, 2.310e+02, 5.220e+02, 1.930e+02,\n",
       "        3.570e+02, 2.010e+02, 6.740e+02, 9.600e+01, 5.270e+02, 2.500e+02,\n",
       "        4.570e+02, 7.200e+01, 4.410e+02, 3.966e+03, 1.240e+02, 3.820e+02,\n",
       "        6.940e+02, 2.310e+02, 2.920e+02, 6.530e+02, 1.000e+00, 1.000e+00,\n",
       "        2.031e+03, 3.900e+01, 6.050e+02, 3.000e+02, 8.500e+01, 6.000e+00,\n",
       "        2.800e+01, 2.280e+03, 3.966e+03, 2.723e+03, 2.723e+03, 2.723e+03,\n",
       "        3.350e+03, 6.470e+02, 1.880e+02, 2.050e+02, 2.980e+02, 6.260e+02,\n",
       "        2.870e+02, 2.270e+02, 1.430e+02, 3.710e+02, 4.110e+02, 5.000e+01,\n",
       "        4.660e+02, 2.110e+02, 2.260e+02, 7.280e+02, 5.690e+02, 2.890e+02,\n",
       "        6.090e+02, 2.592e+03, 7.330e+02, 7.900e+01, 5.150e+02, 5.150e+02,\n",
       "        3.965e+03, 4.550e+02, 2.340e+02, 3.060e+02, 3.800e+01, 5.400e+02,\n",
       "        3.260e+02, 2.770e+02, 1.230e+02, 3.836e+03, 3.590e+02, 7.280e+02,\n",
       "        7.280e+02, 1.073e+03, 5.400e+01, 3.108e+03, 6.500e+01, 4.022e+03,\n",
       "        1.006e+03, 3.050e+02, 4.240e+02, 3.840e+02, 2.770e+02, 2.386e+03,\n",
       "        2.120e+02, 5.150e+02, 5.150e+02, 6.990e+02, 2.250e+02, 9.500e+01,\n",
       "        5.930e+02, 6.260e+02, 2.320e+02, 2.560e+02, 2.752e+03, 3.320e+02,\n",
       "        3.800e+01, 5.500e+01, 3.420e+02, 2.992e+03, 9.030e+02, 3.830e+02,\n",
       "        3.350e+02, 7.090e+02, 5.630e+02, 1.479e+03, 1.479e+03, 5.100e+01,\n",
       "        1.006e+03, 3.050e+02, 7.390e+02, 3.330e+02, 3.120e+02, 3.120e+02,\n",
       "        5.260e+02, 3.710e+02, 5.220e+02, 3.006e+03, 1.852e+03, 2.310e+02,\n",
       "        1.680e+02, 4.190e+02, 2.810e+02, 2.560e+02, 5.970e+02, 4.000e+00,\n",
       "        2.310e+02, 5.220e+02, 5.220e+02, 6.940e+02, 5.020e+02, 1.065e+03,\n",
       "        2.200e+02, 9.600e+01, 1.020e+02, 3.440e+02, 1.300e+02, 3.108e+03,\n",
       "        1.405e+03, 5.230e+02, 3.100e+02, 3.132e+03, 4.250e+02, 6.550e+02,\n",
       "        1.381e+03, 1.382e+03, 2.579e+03, 9.000e+01, 3.990e+02, 1.065e+03,\n",
       "        6.000e+00, 2.992e+03, 1.530e+02, 1.830e+02, 6.990e+02, 6.990e+02,\n",
       "        4.500e+02, 3.770e+02, 3.158e+03, 2.300e+02, 2.300e+02, 2.300e+02,\n",
       "        3.238e+03, 3.238e+03, 3.238e+03, 2.160e+02, 2.160e+02, 2.160e+02,\n",
       "        2.160e+02, 7.500e+01, 3.350e+02, 2.600e+01, 1.091e+03, 1.091e+03,\n",
       "        3.090e+02, 7.060e+02, 5.940e+02, 5.570e+02, 2.830e+02, 5.480e+02,\n",
       "        4.690e+02, 3.880e+02, 3.880e+02, 8.700e+01, 6.130e+02, 3.590e+02,\n",
       "        1.550e+02, 1.000e+01, 1.000e+01, 1.000e+01, 7.040e+02, 5.700e+02,\n",
       "        6.010e+02, 6.010e+02, 3.290e+03, 5.070e+02, 6.470e+02, 6.410e+02,\n",
       "        6.900e+01, 2.960e+02, 2.530e+02, 5.960e+02, 3.630e+02, 5.130e+02,\n",
       "        2.860e+02, 2.860e+02, 8.900e+01, 1.870e+02, 2.260e+02, 1.840e+02,\n",
       "        1.423e+03, 6.680e+02, 3.330e+02, 3.330e+02, 3.330e+02, 6.330e+02,\n",
       "        2.530e+02, 1.942e+03, 1.680e+02, 2.450e+02, 2.057e+03, 1.228e+03,\n",
       "        2.080e+02, 2.992e+03, 5.130e+02, 8.600e+01, 1.531e+03, 6.480e+02,\n",
       "        4.000e+00, 5.220e+02, 1.852e+03, 3.570e+02, 3.254e+03, 1.890e+02,\n",
       "        1.680e+02, 1.397e+03, 2.782e+03, 2.514e+03, 4.060e+02, 8.700e+01,\n",
       "        4.100e+01, 4.730e+02, 4.500e+02, 5.150e+02, 5.150e+02, 5.150e+02,\n",
       "        6.990e+02, 3.130e+02, 4.300e+01, 2.844e+03, 7.090e+02, 3.200e+01,\n",
       "        1.405e+03, 3.960e+02, 4.250e+02, 1.206e+03, 5.570e+02, 1.370e+02,\n",
       "        2.592e+03, 3.900e+01, 5.150e+02, 2.100e+02, 3.710e+02, 3.210e+02,\n",
       "        3.250e+02, 7.310e+02, 7.900e+01, 3.880e+02, 5.510e+02, 7.550e+02,\n",
       "        2.297e+03, 1.037e+03, 3.966e+03, 2.430e+02, 1.670e+02, 4.920e+02,\n",
       "        1.240e+02, 1.890e+02, 5.580e+02, 5.580e+02, 3.710e+02, 5.120e+02,\n",
       "        3.330e+02, 3.330e+02, 1.710e+02, 6.130e+02, 1.800e+02, 1.800e+02,\n",
       "        2.992e+03, 3.965e+03, 1.830e+02, 6.990e+02, 4.520e+02, 4.190e+02,\n",
       "        1.938e+03, 3.827e+03, 7.290e+02, 1.940e+02, 1.940e+02, 2.300e+01,\n",
       "        4.900e+02, 1.850e+02, 2.320e+02, 4.930e+02, 6.280e+02, 2.540e+02,\n",
       "        9.000e+00, 2.362e+03, 1.940e+02, 1.090e+02, 3.006e+03, 3.570e+02,\n",
       "        6.090e+02, 1.900e+01, 4.350e+02, 6.750e+02, 4.330e+02, 6.530e+02,\n",
       "        6.820e+02, 1.037e+03, 1.037e+03, 1.160e+02, 6.700e+01, 1.531e+03,\n",
       "        1.519e+03, 2.514e+03, 8.500e+01, 4.890e+02, 3.940e+02, 6.680e+02,\n",
       "        4.440e+02, 4.440e+02, 7.370e+02, 1.073e+03, 3.580e+02, 4.820e+02,\n",
       "        2.870e+02, 6.000e+00, 1.530e+02, 1.830e+02, 3.130e+02, 2.650e+02,\n",
       "        8.600e+01, 2.503e+03, 3.290e+03, 5.070e+02, 9.000e+01, 2.040e+02,\n",
       "        4.350e+02, 1.900e+01, 2.820e+02, 1.170e+02, 2.280e+03, 1.852e+03,\n",
       "        1.940e+02, 4.520e+02, 7.070e+02, 1.065e+03, 3.238e+03, 3.238e+03,\n",
       "        3.238e+03, 9.210e+02, 3.238e+03, 3.238e+03, 3.238e+03, 3.238e+03,\n",
       "        3.238e+03, 4.420e+02, 2.300e+02, 2.300e+02, 6.800e+01, 6.800e+01,\n",
       "        6.580e+02, 7.100e+02, 4.350e+02, 4.890e+02, 7.900e+01, 1.790e+02,\n",
       "        3.900e+01, 7.160e+02, 2.310e+02, 2.310e+02, 2.280e+03, 4.120e+02,\n",
       "        2.500e+02, 5.480e+02, 4.800e+01, 2.691e+03, 3.330e+02, 9.700e+01,\n",
       "        3.539e+03, 2.020e+02, 1.880e+02, 3.466e+03, 1.988e+03, 2.592e+03,\n",
       "        2.630e+02, 2.740e+02, 2.740e+02, 2.240e+02, 3.890e+02, 1.381e+03,\n",
       "        2.185e+03, 5.500e+02, 5.500e+02, 8.200e+01, 2.828e+03, 3.380e+02,\n",
       "        2.970e+02, 4.000e+02, 1.531e+03, 4.290e+02, 1.935e+03, 1.935e+03,\n",
       "        9.600e+01, 4.810e+02, 1.849e+03, 1.849e+03, 3.340e+02, 7.500e+01,\n",
       "        6.450e+02, 1.100e+01, 2.980e+02, 2.010e+02, 6.730e+02, 2.040e+02,\n",
       "        2.040e+02, 6.300e+02, 6.470e+02, 4.300e+01, 5.500e+01, 3.760e+02,\n",
       "        5.230e+02, 2.280e+03, 1.935e+03, 5.970e+02, 2.920e+02, 6.530e+02,\n",
       "        4.260e+02, 3.490e+02, 2.500e+02, 2.500e+02, 7.450e+02, 6.120e+02,\n",
       "        2.750e+02, 2.040e+02, 6.690e+02, 2.110e+02, 2.992e+03, 1.530e+02,\n",
       "        1.830e+02, 3.830e+02, 2.100e+02, 2.860e+02, 1.900e+02, 3.000e+01,\n",
       "        5.480e+02, 5.270e+02, 7.450e+02, 4.790e+02, 1.660e+02, 7.160e+02,\n",
       "        5.970e+02, 2.990e+02, 1.940e+02, 1.940e+02, 2.302e+03, 1.065e+03,\n",
       "        2.302e+03, 2.300e+01, 3.006e+03, 1.930e+02, 2.310e+02, 1.852e+03,\n",
       "        1.200e+01, 6.280e+02, 2.060e+02, 1.938e+03, 1.660e+02, 5.180e+02,\n",
       "        1.940e+02, 1.940e+02, 5.220e+02, 5.220e+02, 9.030e+02, 1.065e+03,\n",
       "        2.110e+02, 1.530e+02, 3.460e+02, 3.940e+02, 4.260e+02, 1.170e+02,\n",
       "        3.200e+01, 4.370e+02, 4.370e+02, 2.210e+02, 1.405e+03, 5.110e+02,\n",
       "        1.035e+03, 9.300e+01], dtype=float32)}"
      ]
     },
     "execution_count": 6,
     "metadata": {},
     "output_type": "execute_result"
    }
   ],
   "source": [
    "data_dict"
   ]
  },
  {
   "cell_type": "code",
   "execution_count": null,
   "id": "d3833234-bbc3-453e-9fc7-1230ccc78dad",
   "metadata": {},
   "outputs": [],
   "source": []
  },
  {
   "cell_type": "markdown",
   "id": "3d88861a-e7fb-49ab-9da5-a80f7aa8521f",
   "metadata": {},
   "source": [
    "### 带align的加载方法"
   ]
  },
  {
   "cell_type": "code",
   "execution_count": null,
   "id": "5cae0b15-46dd-4ceb-83a9-c24678ba296b",
   "metadata": {},
   "outputs": [],
   "source": [
    "from dodrio import load_data_from_line_align"
   ]
  },
  {
   "cell_type": "code",
   "execution_count": null,
   "id": "7308aee4-52f0-4404-b257-9d4b26f61e78",
   "metadata": {},
   "outputs": [],
   "source": [
    "aa = \"shaoniangexing_00002537|/aliyun-oss/tts_data/dodrio_data/data_save/usagedir/dia600h/pack_dir/wav_dia600h_00269.pack|153255360|153596160|3|我劝你还是让开的好一起上|ZH|sil w o3 q van4 n i3 h ai2 sh ir4 r ang4 k ai1 d e5 h ao3 sil y i4 q i3 sh ang4 sil|340 160 10 120 90 60 50 70 50 90 60 50 120 70 50 30 40 90 330 630 90 40 70 50 80 180 530|mel|/aliyun-oss/tts_data/dodrio_data/data_save/usagedir/dia600h/mel_dir/wav_dia600h_00269.mel|47824000|47930240|80,332|pitch|/aliyun-oss/tts_data/dodrio_data/data_save/usagedir/dia600h/pitch_dir/wav_dia600h_00269.pitch|597800|599128|332|energy|/aliyun-oss/tts_data/dodrio_data/data_save/usagedir/dia600h/energy_dir/wav_dia600h_00269.energy|597800|599128|332\"\n"
   ]
  },
  {
   "cell_type": "code",
   "execution_count": null,
   "id": "4ae45105-8def-4dcf-bb05-d3fe02b51745",
   "metadata": {},
   "outputs": [],
   "source": [
    "dd = load_data_from_line_align(aa)"
   ]
  },
  {
   "cell_type": "code",
   "execution_count": null,
   "id": "e67ae1fc-071d-408c-8a45-80187fea633d",
   "metadata": {},
   "outputs": [],
   "source": []
  }
 ],
 "metadata": {
  "kernelspec": {
   "display_name": "cosy",
   "language": "python",
   "name": "cosy"
  },
  "language_info": {
   "codemirror_mode": {
    "name": "ipython",
    "version": 3
   },
   "file_extension": ".py",
   "mimetype": "text/x-python",
   "name": "python",
   "nbconvert_exporter": "python",
   "pygments_lexer": "ipython3",
   "version": "3.8.19"
  }
 },
 "nbformat": 4,
 "nbformat_minor": 5
}
